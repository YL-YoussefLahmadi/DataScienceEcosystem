{
 "cells": [
  {
   "cell_type": "markdown",
   "id": "94247294-ed12-4235-b113-dfb9c2887a8c",
   "metadata": {},
   "source": [
    "Data Science Tools and Ecosystem"
   ]
  },
  {
   "cell_type": "markdown",
   "id": "c1fc9b48-b560-4505-ad94-38b4238c17ef",
   "metadata": {},
   "source": [
    "In this notebook, Data Science Tools and Ecosystem are summarized."
   ]
  },
  {
   "cell_type": "markdown",
   "id": "a64d273b-be56-440b-942c-8326801b5d62",
   "metadata": {},
   "source": [
    "Some of the popular languages that Data Scientists use are:\n",
    "\n",
    "1. Python\n",
    "2. R\n",
    "3. SQL\n",
    "4. Julia\n",
    "5. Java"
   ]
  },
  {
   "cell_type": "markdown",
   "id": "6d58fecf-db75-4020-9c11-fee6db24cbfa",
   "metadata": {},
   "source": [
    "Some of the commonly used libraries used by Data Scientists include:\n",
    "\n",
    "1. Pandas\n",
    "2. NumPy\n",
    "3. Matplotlib\n",
    "4. Scikit-learn\n",
    "5. TensorFlow"
   ]
  },
  {
   "cell_type": "code",
   "execution_count": null,
   "id": "3da7fa28-4502-47a5-82d2-bc81d44c1634",
   "metadata": {},
   "outputs": [],
   "source": [
    "### Below are a few examples of evaluating arithmetic expressions in Python\n",
    "# Addition\n",
    "3 + 5  # Result: 8\n",
    "\n",
    "# Subtraction\n",
    "10 - 4  # Result: 6\n",
    "\n",
    "# Multiplication\n",
    "7 * 6  # Result: 42\n",
    "\n",
    "# Division\n",
    "20 / 5  # Result: 4.0\n",
    "\n",
    "# Exponentiation\n",
    "2 ** 3  # Result: 8\n",
    "\n",
    "# Modulus (remainder)\n",
    "10 % 3  # Result: 1"
   ]
  },
  {
   "cell_type": "code",
   "execution_count": 1,
   "id": "68c5e6c4-ccc1-429c-abc4-badc61e1b5a3",
   "metadata": {},
   "outputs": [
    {
     "data": {
      "text/plain": [
       "17"
      ]
     },
     "execution_count": 1,
     "metadata": {},
     "output_type": "execute_result"
    }
   ],
   "source": [
    "# This is a simple arithmetic expression to multiply then add integers\n",
    "(3 * 4) + 5"
   ]
  },
  {
   "cell_type": "code",
   "execution_count": 2,
   "id": "b1997089-0e85-478c-920e-b92317e3c566",
   "metadata": {},
   "outputs": [
    {
     "data": {
      "text/plain": [
       "3.3333333333333335"
      ]
     },
     "execution_count": 2,
     "metadata": {},
     "output_type": "execute_result"
    }
   ],
   "source": [
    "# This will convert 200 minutes to hours by dividing by 60\n",
    "hours = 200 / 60\n",
    "hours"
   ]
  },
  {
   "cell_type": "code",
   "execution_count": null,
   "id": "8f15e856-189f-4eff-96df-744987641ebc",
   "metadata": {},
   "outputs": [],
   "source": [
    "**Objectives:**\n",
    "\n",
    "- List popular languages for Data Science.\n",
    "- Identify commonly used libraries in Data Science.\n",
    "- Provide examples of arithmetic expressions in Python.\n",
    "- Demonstrate basic arithmetic operations.\n",
    "- Explain the conversion of minutes to hours.\n"
   ]
  },
  {
   "cell_type": "code",
   "execution_count": null,
   "id": "afb7e25a-ddad-47cc-beb4-ca195dd8e264",
   "metadata": {},
   "outputs": [],
   "source": [
    "## Author\n",
    "\n",
    "Youssef LAHMADI"
   ]
  }
 ],
 "metadata": {
  "kernelspec": {
   "display_name": "Python 3 (ipykernel)",
   "language": "python",
   "name": "python3"
  },
  "language_info": {
   "codemirror_mode": {
    "name": "ipython",
    "version": 3
   },
   "file_extension": ".py",
   "mimetype": "text/x-python",
   "name": "python",
   "nbconvert_exporter": "python",
   "pygments_lexer": "ipython3",
   "version": "3.11.7"
  }
 },
 "nbformat": 4,
 "nbformat_minor": 5
}
